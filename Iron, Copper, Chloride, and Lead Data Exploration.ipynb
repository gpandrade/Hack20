{
 "cells": [
  {
   "cell_type": "markdown",
   "metadata": {},
   "source": [
    "## Imports\n",
    "\n",
    "Importing Python packages."
   ]
  },
  {
   "cell_type": "code",
   "execution_count": 28,
   "metadata": {
    "collapsed": true
   },
   "outputs": [],
   "source": [
    "import pandas as pd\n",
    "import numpy as np\n",
    "import scipy as sp\n",
    "import matplotlib.pyplot as plt\n",
    "\n",
    "from matplotlib import cm\n",
    "from mpl_toolkits.mplot3d import Axes3D\n",
    "\n",
    "from sklearn.linear_model import LinearRegression\n",
    "from sklearn.svm import SVR\n",
    "from sklearn.neural_network import MLPRegressor\n",
    "from sklearn.tree import DecisionTreeRegressor\n",
    "from sklearn.linear_model import Ridge, Lasso\n",
    "\n",
    "from sklearn.model_selection import RandomizedSearchCV, GridSearchCV\n",
    "\n",
    "%matplotlib inline"
   ]
  },
  {
   "cell_type": "markdown",
   "metadata": {},
   "source": [
    "## Get the Data\n",
    "\n",
    "Load up the Iron, Copper, Chloride, and Lead .csv file."
   ]
  },
  {
   "cell_type": "code",
   "execution_count": 7,
   "metadata": {
    "collapsed": false
   },
   "outputs": [],
   "source": [
    "# load data from .csv file\n",
    "metal_data = pd.read_csv('LSPC_data.csv')\n",
    "\n",
    "# for now, let's just try to predict lead result from copper and iron results\n",
    "x = pd.DataFrame(dict(copper_result=metal_data['Copper Result'].dropna(), iron_result=metal_data['Iron Result'].dropna(), chloride_result=metal_data['Chloride Result'].dropna()))\n",
    "y = metal_data['Lead Result'].values.reshape((1365, 1))\n",
    "\n",
    "# split up data (approx. 80% / 20% split for now) for training, testing datsets\n",
    "train_data, test_data = (x[:1095], y[:1095]), (x[1095:], y[1095:])"
   ]
  },
  {
   "cell_type": "code",
   "execution_count": 8,
   "metadata": {
    "collapsed": false
   },
   "outputs": [
    {
     "data": {
      "text/plain": [
       "(1095, 270)"
      ]
     },
     "execution_count": 8,
     "metadata": {},
     "output_type": "execute_result"
    }
   ],
   "source": [
    "len(train_data[0]), len(test_data[0])"
   ]
  },
  {
   "cell_type": "markdown",
   "metadata": {},
   "source": [
    "## Fit a Linear Regression Model\n",
    "\n",
    "Using off-the-shelf scikit-learn linear regression model."
   ]
  },
  {
   "cell_type": "code",
   "execution_count": 10,
   "metadata": {
    "collapsed": false
   },
   "outputs": [
    {
     "name": "stdout",
     "output_type": "stream",
     "text": [
      "Linear regression R^2 score on training data: 0.0693502104944\n",
      "Linear regression R^2 score on test data: 0.0631283681763\n"
     ]
    }
   ],
   "source": [
    "# fit the model\n",
    "model = LinearRegression(n_jobs=8)\n",
    "model.fit(train_data[0], train_data[1])\n",
    "\n",
    "# report results\n",
    "print 'Linear regression R^2 score on training data:', model.score(train_data[0], train_data[1])\n",
    "print 'Linear regression R^2 score on test data:', model.score(test_data[0], test_data[1])"
   ]
  },
  {
   "cell_type": "markdown",
   "metadata": {},
   "source": [
    "## Fit a Kernel SVM Model\n",
    "\n",
    "We'll try fitting this data with support vector regressors with different kernels."
   ]
  },
  {
   "cell_type": "code",
   "execution_count": 14,
   "metadata": {
    "collapsed": false
   },
   "outputs": [
    {
     "name": "stdout",
     "output_type": "stream",
     "text": [
      "Linear kernel SVM R^2 score on training data: 0.0347459816975\n",
      "Linear kernel SVM R^2 score on test data: 0.448114217216\n"
     ]
    }
   ],
   "source": [
    "# fit the model\n",
    "linear_svr = SVR(kernel='linear')\n",
    "linear_svr.fit(train_data[0], train_data[1])\n",
    "\n",
    "# report results\n",
    "print 'Linear kernel SVM R^2 score on training data:', linear_svr.score(train_data[0], train_data[1])\n",
    "print 'Linear kernel SVM R^2 score on test data:', linear_svr.score(test_data[0], test_data[1])"
   ]
  },
  {
   "cell_type": "code",
   "execution_count": 15,
   "metadata": {
    "collapsed": false
   },
   "outputs": [
    {
     "name": "stdout",
     "output_type": "stream",
     "text": [
      "RBF kernel SVM R^2 score on training data: -0.0142377561435\n",
      "RBF kernel SVM R^2 score on test data: -0.135591978017\n"
     ]
    }
   ],
   "source": [
    "# fit the model\n",
    "rbf_svr = SVR(kernel='rbf')\n",
    "rbf_svr.fit(train_data[0], train_data[1])\n",
    "\n",
    "# report results\n",
    "print 'RBF kernel SVM R^2 score on training data:', rbf_svr.score(train_data[0], train_data[1])\n",
    "print 'RBF kernel SVM R^2 score on test data:', rbf_svr.score(test_data[0], test_data[1])"
   ]
  },
  {
   "cell_type": "code",
   "execution_count": 16,
   "metadata": {
    "collapsed": false
   },
   "outputs": [
    {
     "name": "stdout",
     "output_type": "stream",
     "text": [
      "Sigmoid kernel SVM R^2 score on training data: -0.0189081186182\n",
      "Sigmoid kernel SVM R^2 score on test data: -0.155749767966\n"
     ]
    }
   ],
   "source": [
    "# fit the model\n",
    "sigmoid_svr = SVR(kernel='sigmoid')\n",
    "sigmoid_svr.fit(train_data[0], train_data[1])\n",
    "\n",
    "# report the results\n",
    "print 'Sigmoid kernel SVM R^2 score on training data:', sigmoid_svr.score(train_data[0], train_data[1])\n",
    "print 'Sigmoid kernel SVM R^2 score on test data:', sigmoid_svr.score(test_data[0], test_data[1])"
   ]
  },
  {
   "cell_type": "markdown",
   "metadata": {},
   "source": [
    "## Neural Network Regression"
   ]
  },
  {
   "cell_type": "code",
   "execution_count": 41,
   "metadata": {
    "collapsed": false,
    "scrolled": false
   },
   "outputs": [
    {
     "name": "stdout",
     "output_type": "stream",
     "text": [
      "Fitting 3 folds for each of 10 candidates, totalling 30 fits\n",
      "2 hidden neuron MLP regressor R^2 score on training data: 0.049395606011\n",
      "2 hidden neuron MLP regressor R^2 score on test data: -0.0234165436244\n",
      "MLPRegressor(activation='relu', alpha=1e-05, batch_size='auto', beta_1=0.9,\n",
      "       beta_2=0.999, early_stopping=False, epsilon=1e-08,\n",
      "       hidden_layer_sizes=2, learning_rate='constant',\n",
      "       learning_rate_init=0.001, max_iter=200, momentum=0.9,\n",
      "       nesterovs_momentum=True, power_t=0.5, random_state=None,\n",
      "       shuffle=True, solver='lbfgs', tol=0.0001, validation_fraction=0.1,\n",
      "       verbose=False, warm_start=False)\n"
     ]
    },
    {
     "name": "stderr",
     "output_type": "stream",
     "text": [
      "[Parallel(n_jobs=1)]: Done  30 out of  30 | elapsed:    2.7s finished\n"
     ]
    }
   ],
   "source": [
    "model = MLPRegressor()\n",
    "\n",
    "grid_search = GridSearchCV(model, { 'hidden_layer_sizes' : [ 2 ], 'activation' : [ 'relu' ], 'solver' : [ 'lbfgs', 'adam' ], 'alpha' : [ 1e-5, 3e-5, 5e-5, 7e-5, 1e-4 ] }, verbose=1)\n",
    "grid_search.fit(train_data[0], train_data[1])\n",
    "\n",
    "train_score = grid_search.score(train_data[0], train_data[1])\n",
    "test_score = grid_search.score(test_data[0], test_data[1])\n",
    "\n",
    "print '2 hidden neuron MLP regressor R^2 score on training data:', train_score\n",
    "print '2 hidden neuron MLP regressor R^2 score on test data:', test_score\n",
    "\n",
    "print grid_search.best_estimator_"
   ]
  },
  {
   "cell_type": "code",
   "execution_count": 42,
   "metadata": {
    "collapsed": false
   },
   "outputs": [
    {
     "name": "stdout",
     "output_type": "stream",
     "text": [
      "Fitting 3 folds for each of 10 candidates, totalling 30 fits\n",
      "2 hidden neuron MLP regressor R^2 score on training data: 0.0799692187852\n",
      "2 hidden neuron MLP regressor R^2 score on test data: 0.266669673111\n",
      "MLPRegressor(activation='relu', alpha=3e-05, batch_size='auto', beta_1=0.9,\n",
      "       beta_2=0.999, early_stopping=False, epsilon=1e-08,\n",
      "       hidden_layer_sizes=4, learning_rate='constant',\n",
      "       learning_rate_init=0.001, max_iter=200, momentum=0.9,\n",
      "       nesterovs_momentum=True, power_t=0.5, random_state=None,\n",
      "       shuffle=True, solver='lbfgs', tol=0.0001, validation_fraction=0.1,\n",
      "       verbose=False, warm_start=False)\n"
     ]
    },
    {
     "name": "stderr",
     "output_type": "stream",
     "text": [
      "[Parallel(n_jobs=1)]: Done  30 out of  30 | elapsed:    3.1s finished\n"
     ]
    }
   ],
   "source": [
    "model = MLPRegressor()\n",
    "\n",
    "grid_search = GridSearchCV(model, { 'hidden_layer_sizes' : [ 4 ], 'activation' : [ 'relu' ], 'solver' : [ 'lbfgs', 'adam' ], 'alpha' : [ 1e-5, 3e-5, 5e-5, 7e-5, 1e-4 ] }, verbose=1)\n",
    "grid_search.fit(train_data[0], train_data[1])\n",
    "\n",
    "train_score = grid_search.score(train_data[0], train_data[1])\n",
    "test_score = grid_search.score(test_data[0], test_data[1])\n",
    "\n",
    "print '2 hidden neuron MLP regressor R^2 score on training data:', train_score\n",
    "print '2 hidden neuron MLP regressor R^2 score on test data:', test_score\n",
    "\n",
    "print grid_search.best_estimator_"
   ]
  },
  {
   "cell_type": "code",
   "execution_count": 44,
   "metadata": {
    "collapsed": false
   },
   "outputs": [
    {
     "name": "stdout",
     "output_type": "stream",
     "text": [
      "Fitting 3 folds for each of 10 candidates, totalling 30 fits\n",
      "2 hidden neuron MLP regressor R^2 score on training data: 0.0692073413925\n",
      "2 hidden neuron MLP regressor R^2 score on test data: 0.0703476968022\n",
      "MLPRegressor(activation='relu', alpha=0.0001, batch_size='auto', beta_1=0.9,\n",
      "       beta_2=0.999, early_stopping=False, epsilon=1e-08,\n",
      "       hidden_layer_sizes=8, learning_rate='constant',\n",
      "       learning_rate_init=0.001, max_iter=200, momentum=0.9,\n",
      "       nesterovs_momentum=True, power_t=0.5, random_state=None,\n",
      "       shuffle=True, solver='lbfgs', tol=0.0001, validation_fraction=0.1,\n",
      "       verbose=False, warm_start=False)\n"
     ]
    },
    {
     "name": "stderr",
     "output_type": "stream",
     "text": [
      "[Parallel(n_jobs=1)]: Done  30 out of  30 | elapsed:    2.8s finished\n"
     ]
    }
   ],
   "source": [
    "model = MLPRegressor()\n",
    "\n",
    "grid_search = GridSearchCV(model, { 'hidden_layer_sizes' : [ 8 ], 'activation' : [ 'relu' ], 'solver' : [ 'lbfgs', 'adam' ], 'alpha' : [ 1e-5, 3e-5, 5e-5, 7e-5, 1e-4 ] }, verbose=1)\n",
    "grid_search.fit(train_data[0], train_data[1])\n",
    "\n",
    "train_score = grid_search.score(train_data[0], train_data[1])\n",
    "test_score = grid_search.score(test_data[0], test_data[1])\n",
    "\n",
    "print '2 hidden neuron MLP regressor R^2 score on training data:', train_score\n",
    "print '2 hidden neuron MLP regressor R^2 score on test data:', test_score\n",
    "\n",
    "print grid_search.best_estimator_"
   ]
  },
  {
   "cell_type": "code",
   "execution_count": 46,
   "metadata": {
    "collapsed": false
   },
   "outputs": [
    {
     "name": "stdout",
     "output_type": "stream",
     "text": [
      "Fitting 3 folds for each of 10 candidates, totalling 30 fits\n",
      "2 hidden neuron MLP regressor R^2 score on training data: 0.069283222442\n",
      "2 hidden neuron MLP regressor R^2 score on test data: 0.085969949657\n",
      "MLPRegressor(activation='relu', alpha=1e-05, batch_size='auto', beta_1=0.9,\n",
      "       beta_2=0.999, early_stopping=False, epsilon=1e-08,\n",
      "       hidden_layer_sizes=16, learning_rate='constant',\n",
      "       learning_rate_init=0.001, max_iter=200, momentum=0.9,\n",
      "       nesterovs_momentum=True, power_t=0.5, random_state=None,\n",
      "       shuffle=True, solver='lbfgs', tol=0.0001, validation_fraction=0.1,\n",
      "       verbose=False, warm_start=False)\n"
     ]
    },
    {
     "name": "stderr",
     "output_type": "stream",
     "text": [
      "[Parallel(n_jobs=1)]: Done  30 out of  30 | elapsed:    1.8s finished\n"
     ]
    }
   ],
   "source": [
    "model = MLPRegressor()\n",
    "\n",
    "grid_search = GridSearchCV(model, { 'hidden_layer_sizes' : [ 16 ], 'activation' : [ 'relu' ], 'solver' : [ 'lbfgs', 'adam' ], 'alpha' : [ 1e-5, 3e-5, 5e-5, 7e-5, 1e-4 ] }, verbose=1)\n",
    "grid_search.fit(train_data[0], train_data[1])\n",
    "\n",
    "train_score = grid_search.score(train_data[0], train_data[1])\n",
    "test_score = grid_search.score(test_data[0], test_data[1])\n",
    "\n",
    "print '2 hidden neuron MLP regressor R^2 score on training data:', train_score\n",
    "print '2 hidden neuron MLP regressor R^2 score on test data:', test_score\n",
    "\n",
    "print grid_search.best_estimator_"
   ]
  },
  {
   "cell_type": "code",
   "execution_count": 48,
   "metadata": {
    "collapsed": false
   },
   "outputs": [
    {
     "name": "stdout",
     "output_type": "stream",
     "text": [
      "Fitting 3 folds for each of 10 candidates, totalling 30 fits\n",
      "2 hidden neuron MLP regressor R^2 score on training data: 0.0844730934378\n",
      "2 hidden neuron MLP regressor R^2 score on test data: 0.23679250186\n",
      "MLPRegressor(activation='relu', alpha=1e-05, batch_size='auto', beta_1=0.9,\n",
      "       beta_2=0.999, early_stopping=False, epsilon=1e-08,\n",
      "       hidden_layer_sizes=50, learning_rate='constant',\n",
      "       learning_rate_init=0.001, max_iter=200, momentum=0.9,\n",
      "       nesterovs_momentum=True, power_t=0.5, random_state=None,\n",
      "       shuffle=True, solver='lbfgs', tol=0.0001, validation_fraction=0.1,\n",
      "       verbose=False, warm_start=False)\n"
     ]
    },
    {
     "name": "stderr",
     "output_type": "stream",
     "text": [
      "[Parallel(n_jobs=1)]: Done  30 out of  30 | elapsed:    2.4s finished\n"
     ]
    }
   ],
   "source": [
    "model = MLPRegressor()\n",
    "\n",
    "grid_search = GridSearchCV(model, { 'hidden_layer_sizes' : [ 50 ], 'activation' : [ 'relu' ], 'solver' : [ 'lbfgs', 'adam' ], 'alpha' : [ 1e-5, 3e-5, 5e-5, 7e-5, 1e-4 ] }, verbose=1)\n",
    "grid_search.fit(train_data[0], train_data[1])\n",
    "\n",
    "train_score = grid_search.score(train_data[0], train_data[1])\n",
    "test_score = grid_search.score(test_data[0], test_data[1])\n",
    "\n",
    "print '2 hidden neuron MLP regressor R^2 score on training data:', train_score\n",
    "print '2 hidden neuron MLP regressor R^2 score on test data:', test_score\n",
    "\n",
    "print grid_search.best_estimator_"
   ]
  },
  {
   "cell_type": "code",
   "execution_count": 52,
   "metadata": {
    "collapsed": false
   },
   "outputs": [
    {
     "name": "stdout",
     "output_type": "stream",
     "text": [
      "Fitting 3 folds for each of 10 candidates, totalling 30 fits\n",
      "2 hidden neuron MLP regressor R^2 score on training data: 0.0820279178969\n",
      "2 hidden neuron MLP regressor R^2 score on test data: 0.291353105597\n",
      "MLPRegressor(activation='relu', alpha=3e-05, batch_size='auto', beta_1=0.9,\n",
      "       beta_2=0.999, early_stopping=False, epsilon=1e-08,\n",
      "       hidden_layer_sizes=100, learning_rate='constant',\n",
      "       learning_rate_init=0.001, max_iter=200, momentum=0.9,\n",
      "       nesterovs_momentum=True, power_t=0.5, random_state=None,\n",
      "       shuffle=True, solver='lbfgs', tol=0.0001, validation_fraction=0.1,\n",
      "       verbose=False, warm_start=False)\n"
     ]
    },
    {
     "name": "stderr",
     "output_type": "stream",
     "text": [
      "[Parallel(n_jobs=1)]: Done  30 out of  30 | elapsed:    2.5s finished\n"
     ]
    }
   ],
   "source": [
    "model = MLPRegressor()\n",
    "\n",
    "grid_search = GridSearchCV(model, { 'hidden_layer_sizes' : [ 100 ], 'activation' : [ 'relu' ], 'solver' : [ 'lbfgs', 'adam' ], 'alpha' : [ 1e-5, 3e-5, 5e-5, 7e-5, 1e-4 ] }, verbose=1)\n",
    "grid_search.fit(train_data[0], train_data[1])\n",
    "\n",
    "train_score = grid_search.score(train_data[0], train_data[1])\n",
    "test_score = grid_search.score(test_data[0], test_data[1])\n",
    "\n",
    "print '2 hidden neuron MLP regressor R^2 score on training data:', train_score\n",
    "print '2 hidden neuron MLP regressor R^2 score on test data:', test_score\n",
    "\n",
    "print grid_search.best_estimator_"
   ]
  },
  {
   "cell_type": "markdown",
   "metadata": {},
   "source": [
    "## Decision Tree Regression"
   ]
  },
  {
   "cell_type": "code",
   "execution_count": 56,
   "metadata": {
    "collapsed": false
   },
   "outputs": [
    {
     "name": "stdout",
     "output_type": "stream",
     "text": [
      "Average MLP regressor R^2 score on training data: 0.999981184422\n",
      "Average MLP regressor R^2 score on test data: -74.3504649278\n"
     ]
    }
   ],
   "source": [
    "model = DecisionTreeRegressor()\n",
    "train_scores, test_scores = [], []\n",
    "\n",
    "for i in range(10):\n",
    "    model.fit(train_data[0], train_data[1])\n",
    "    \n",
    "    train_scores.append(model.score(train_data[0], train_data[1]))\n",
    "    test_scores.append(model.score(test_data[0], test_data[1]))\n",
    "\n",
    "print 'Average MLP regressor R^2 score on training data:', sum(train_scores) / float(len(train_scores))\n",
    "\n",
    "print 'Average MLP regressor R^2 score on test data:', sum(test_scores) / float(len(test_scores))"
   ]
  },
  {
   "cell_type": "markdown",
   "metadata": {},
   "source": [
    "## Ridge Regression"
   ]
  },
  {
   "cell_type": "code",
   "execution_count": 58,
   "metadata": {
    "collapsed": false
   },
   "outputs": [
    {
     "name": "stdout",
     "output_type": "stream",
     "text": [
      "Ridge regression R^2 score on training data: 0.0693502104944\n",
      "Ridge regression R^2 score on test data: 0.0631284100986\n"
     ]
    }
   ],
   "source": [
    "model = Ridge()\n",
    "model.fit(train_data[0], train_data[1])\n",
    "\n",
    "print 'Ridge regression R^2 score on training data:', model.score(train_data[0], train_data[1])\n",
    "print 'Ridge regression R^2 score on test data:', model.score(test_data[0], test_data[1])"
   ]
  },
  {
   "cell_type": "markdown",
   "metadata": {},
   "source": [
    "## Ridge Regression with Hyperparameter Grid Search"
   ]
  },
  {
   "cell_type": "code",
   "execution_count": 61,
   "metadata": {
    "collapsed": false
   },
   "outputs": [
    {
     "name": "stdout",
     "output_type": "stream",
     "text": [
      "best Ridge regression R^2 score on training data: 0.0693496459424\n",
      "best Ridge regression R^2 score on test data: 0.0647013331384\n"
     ]
    }
   ],
   "source": [
    "# setting parameter distribution\n",
    "param_dist = { 'alpha' : sp.stats.expon(scale=1), 'solver' : [ 'svd', 'cholesky', 'sparse_cg', 'lsqr', 'sag' ] }\n",
    "\n",
    "# creating Ridge Regression model\n",
    "model = Ridge()\n",
    "\n",
    "# creating randomized search CV object and fit it to the training data\n",
    "random_search = RandomizedSearchCV(model, param_distributions=param_dist, n_iter=25)\n",
    "random_search.fit(train_data[0], train_data[1])\n",
    "\n",
    "# report results\n",
    "print 'best Ridge regression R^2 score on training data:', random_search.score(train_data[0], train_data[1])\n",
    "print 'best Ridge regression R^2 score on test data:', random_search.score(test_data[0], test_data[1])"
   ]
  },
  {
   "cell_type": "code",
   "execution_count": null,
   "metadata": {
    "collapsed": true
   },
   "outputs": [],
   "source": []
  }
 ],
 "metadata": {
  "anaconda-cloud": {},
  "kernelspec": {
   "display_name": "Python [conda env:py27]",
   "language": "python",
   "name": "conda-env-py27-py"
  },
  "language_info": {
   "codemirror_mode": {
    "name": "ipython",
    "version": 2
   },
   "file_extension": ".py",
   "mimetype": "text/x-python",
   "name": "python",
   "nbconvert_exporter": "python",
   "pygments_lexer": "ipython2",
   "version": "2.7.13"
  }
 },
 "nbformat": 4,
 "nbformat_minor": 1
}
