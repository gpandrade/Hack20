{
 "cells": [
  {
   "cell_type": "code",
   "execution_count": 1,
   "metadata": {
    "collapsed": true
   },
   "outputs": [],
   "source": [
    "import pandas as pd\n",
    "import numpy as np"
   ]
  },
  {
   "cell_type": "code",
   "execution_count": 3,
   "metadata": {
    "collapsed": false
   },
   "outputs": [],
   "source": [
    "metal_data = pd.read_csv('LSP_data.csv')\n",
    "chloride_sheet = pd.read_excel('Copper_Iron_and_Lead_for_GriD.xlsx', sheetname='Chloride')\n",
    "\n",
    "temp = list(chloride_sheet['Chloride Result'])\n",
    "chloride_dict= {}\n",
    "for idx, entry in enumerate(temp):\n",
    "    if chloride_sheet['House Name'][idx] not in chloride_dict:\n",
    "        chloride_dict[chloride_sheet['House Name'][idx]] = []\n",
    "    chloride_dict[chloride_sheet['House Name'][idx]].extend( [ entry ] * 15 )\n",
    "    \n",
    "chloride_column = pd.Series([ value for sublist in chloride_dict.values() for value in sublist ], index=metal_data.index)\n",
    "\n",
    "metal_data['Chloride Result'] = chloride_column"
   ]
  },
  {
   "cell_type": "code",
   "execution_count": null,
   "metadata": {
    "collapsed": false
   },
   "outputs": [],
   "source": []
  },
  {
   "cell_type": "code",
   "execution_count": null,
   "metadata": {
    "collapsed": true
   },
   "outputs": [],
   "source": []
  }
 ],
 "metadata": {
  "anaconda-cloud": {},
  "kernelspec": {
   "display_name": "Python [conda env:py27]",
   "language": "python",
   "name": "conda-env-py27-py"
  },
  "language_info": {
   "codemirror_mode": {
    "name": "ipython",
    "version": 2
   },
   "file_extension": ".py",
   "mimetype": "text/x-python",
   "name": "python",
   "nbconvert_exporter": "python",
   "pygments_lexer": "ipython2",
   "version": "2.7.13"
  }
 },
 "nbformat": 4,
 "nbformat_minor": 1
}
